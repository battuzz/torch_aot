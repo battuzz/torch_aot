{
  "cells": [
    {
      "cell_type": "markdown",
      "metadata": {
        "id": "view-in-github",
        "colab_type": "text"
      },
      "source": [
        "<a href=\"https://colab.research.google.com/github/battuzz/torch_aot/blob/main/TorchAOT.ipynb\" target=\"_parent\"><img src=\"https://colab.research.google.com/assets/colab-badge.svg\" alt=\"Open In Colab\"/></a>"
      ]
    },
    {
      "cell_type": "markdown",
      "metadata": {
        "id": "Wf5KrEb6vrkR"
      },
      "source": [
        "# AOT Compilation of torch models"
      ]
    },
    {
      "cell_type": "code",
      "source": [
        "import torch"
      ],
      "metadata": {
        "id": "jCsYgJ7yzI4E"
      },
      "execution_count": 1,
      "outputs": []
    },
    {
      "cell_type": "markdown",
      "metadata": {
        "id": "Nma_JWh-W-IF"
      },
      "source": [
        "## Model definition"
      ]
    },
    {
      "cell_type": "code",
      "source": [
        "NUM_INPUTS = 5\n",
        "NUM_OUTPUTS = 7\n",
        "NUM_INDUCING_POINTS = 350\n",
        "\n",
        "class ModelNN(torch.nn.Module):\n",
        "    def __init__(self):\n",
        "        super().__init__()\n",
        "        self.fc1 = torch.nn.Linear(NUM_INPUTS, 128)\n",
        "        self.fc2 = torch.nn.Linear(128, 128)\n",
        "        self.fc3 = torch.nn.Linear(128, NUM_OUTPUTS)\n",
        "        self.relu = torch.nn.ReLU()\n",
        "\n",
        "    def forward(self, x):\n",
        "        x = self.fc1(x)\n",
        "        x = self.relu(x)\n",
        "        x = self.fc2(x)\n",
        "        x = self.relu(x)\n",
        "        x = self.fc3(x)\n",
        "        return x\n",
        "\n",
        "def squared_distance(x1, x2):\n",
        "    return (\n",
        "        torch.sum(x1**2, dim=1, keepdim=True)\n",
        "        + torch.sum(x2**2, dim=1)\n",
        "        - 2 * torch.mm(x1, x2.t())\n",
        "    )\n",
        "\n",
        "\n",
        "def rbf_kernel(x1, x2, lengthscale=1.0):\n",
        "    dist = squared_distance(x1 / lengthscale, x2 / lengthscale)\n",
        "    return torch.exp(-0.5 * dist)\n",
        "\n",
        "class ModelGPPosterior(torch.nn.Module):\n",
        "    def __init__(self):\n",
        "        super().__init__()\n",
        "\n",
        "        self.lengthscales = torch.nn.Parameter(torch.randn(NUM_INPUTS))\n",
        "        self.inducing_points = torch.nn.Parameter(\n",
        "        torch.randn(NUM_INDUCING_POINTS, NUM_INPUTS)\n",
        "        )\n",
        "        self.alpha = torch.nn.Parameter(torch.randn(NUM_INDUCING_POINTS, NUM_OUTPUTS))\n",
        "\n",
        "    def forward(self, x):\n",
        "        Kuf = rbf_kernel(x, self.inducing_points, self.lengthscales)\n",
        "        mean = Kuf @ self.alpha\n",
        "        return mean"
      ],
      "metadata": {
        "id": "JFylcD5CzD7L"
      },
      "execution_count": 8,
      "outputs": []
    },
    {
      "cell_type": "code",
      "source": [],
      "metadata": {
        "id": "Acc37j9q0Qpb"
      },
      "execution_count": 8,
      "outputs": []
    },
    {
      "cell_type": "code",
      "source": [
        "def train_with_random_data(model):\n",
        "    X = torch.randn(1000, NUM_INPUTS)\n",
        "    y = torch.randn(1000, NUM_OUTPUTS)\n",
        "\n",
        "    model.train()\n",
        "\n",
        "    optimizer = torch.optim.Adam(model.parameters(), lr=0.0001)\n",
        "    for epoch in range(30):\n",
        "        optimizer.zero_grad()\n",
        "        output = model(X)\n",
        "        loss = torch.nn.functional.mse_loss(output, y)\n",
        "        loss.backward()\n",
        "        optimizer.step()\n",
        "\n",
        "        print(f\"Epoch {epoch + 1}, Loss: {loss.item()}\")"
      ],
      "metadata": {
        "id": "dgwXxdZAzvSP"
      },
      "execution_count": 9,
      "outputs": []
    },
    {
      "cell_type": "code",
      "source": [
        "model_nn = ModelNN()\n",
        "model_gp = ModelGPPosterior()\n",
        "train_with_random_data(model_nn)\n",
        "train_with_random_data(model_gp)"
      ],
      "metadata": {
        "id": "AgZin0RS1EjE",
        "outputId": "f887ccd1-1ebd-4196-834a-a6687ef963b6",
        "colab": {
          "base_uri": "https://localhost:8080/"
        }
      },
      "execution_count": 10,
      "outputs": [
        {
          "output_type": "stream",
          "name": "stdout",
          "text": [
            "Epoch 1, Loss: 1.0171658992767334\n",
            "Epoch 2, Loss: 1.016040325164795\n",
            "Epoch 3, Loss: 1.0149654150009155\n",
            "Epoch 4, Loss: 1.0139358043670654\n",
            "Epoch 5, Loss: 1.0129508972167969\n",
            "Epoch 6, Loss: 1.0120136737823486\n",
            "Epoch 7, Loss: 1.0111228227615356\n",
            "Epoch 8, Loss: 1.010277509689331\n",
            "Epoch 9, Loss: 1.0094785690307617\n",
            "Epoch 10, Loss: 1.0087215900421143\n",
            "Epoch 11, Loss: 1.0080043077468872\n",
            "Epoch 12, Loss: 1.0073307752609253\n",
            "Epoch 13, Loss: 1.0066953897476196\n",
            "Epoch 14, Loss: 1.006097674369812\n",
            "Epoch 15, Loss: 1.0055360794067383\n",
            "Epoch 16, Loss: 1.0050055980682373\n",
            "Epoch 17, Loss: 1.0045056343078613\n",
            "Epoch 18, Loss: 1.0040339231491089\n",
            "Epoch 19, Loss: 1.0035897493362427\n",
            "Epoch 20, Loss: 1.003167986869812\n",
            "Epoch 21, Loss: 1.00276780128479\n",
            "Epoch 22, Loss: 1.0023870468139648\n",
            "Epoch 23, Loss: 1.0020263195037842\n",
            "Epoch 24, Loss: 1.0016804933547974\n",
            "Epoch 25, Loss: 1.0013495683670044\n",
            "Epoch 26, Loss: 1.0010309219360352\n",
            "Epoch 27, Loss: 1.0007250308990479\n",
            "Epoch 28, Loss: 1.000428557395935\n",
            "Epoch 29, Loss: 1.0001425743103027\n",
            "Epoch 30, Loss: 0.9998652338981628\n",
            "Epoch 1, Loss: 1.1691468954086304\n",
            "Epoch 2, Loss: 1.168676733970642\n",
            "Epoch 3, Loss: 1.1682074069976807\n",
            "Epoch 4, Loss: 1.1677390336990356\n",
            "Epoch 5, Loss: 1.1672712564468384\n",
            "Epoch 6, Loss: 1.1668044328689575\n",
            "Epoch 7, Loss: 1.166338324546814\n",
            "Epoch 8, Loss: 1.1658729314804077\n",
            "Epoch 9, Loss: 1.165408730506897\n",
            "Epoch 10, Loss: 1.164945125579834\n",
            "Epoch 11, Loss: 1.164482593536377\n",
            "Epoch 12, Loss: 1.1640207767486572\n",
            "Epoch 13, Loss: 1.1635597944259644\n",
            "Epoch 14, Loss: 1.163099765777588\n",
            "Epoch 15, Loss: 1.1626405715942383\n",
            "Epoch 16, Loss: 1.1621824502944946\n",
            "Epoch 17, Loss: 1.1617251634597778\n",
            "Epoch 18, Loss: 1.161268949508667\n",
            "Epoch 19, Loss: 1.1608134508132935\n",
            "Epoch 20, Loss: 1.1603589057922363\n",
            "Epoch 21, Loss: 1.1599054336547852\n",
            "Epoch 22, Loss: 1.15945303440094\n",
            "Epoch 23, Loss: 1.159001350402832\n",
            "Epoch 24, Loss: 1.15855073928833\n",
            "Epoch 25, Loss: 1.158100962638855\n",
            "Epoch 26, Loss: 1.1576523780822754\n",
            "Epoch 27, Loss: 1.1572046279907227\n",
            "Epoch 28, Loss: 1.1567577123641968\n",
            "Epoch 29, Loss: 1.1563119888305664\n",
            "Epoch 30, Loss: 1.1558672189712524\n"
          ]
        }
      ]
    },
    {
      "cell_type": "code",
      "source": [
        "example_input = torch.randn((1, NUM_INPUTS))\n",
        "model_nn.eval()\n",
        "\n",
        "exported = torch.export.export(model_nn, (example_input,))\n",
        "torch._inductor.aoti_compile_and_package(\n",
        "    exported,\n",
        "    package_path=\"model_nn.pt2\",\n",
        ")"
      ],
      "metadata": {
        "id": "3cIXcaWA1cCk",
        "outputId": "870e99ef-9d5a-4328-f1c4-4b04cbc9eb47",
        "colab": {
          "base_uri": "https://localhost:8080/",
          "height": 53
        }
      },
      "execution_count": 13,
      "outputs": [
        {
          "output_type": "stream",
          "name": "stderr",
          "text": [
            "No CUDA runtime is found, using CUDA_HOME='/usr/local/cuda'\n"
          ]
        },
        {
          "output_type": "execute_result",
          "data": {
            "text/plain": [
              "'model_nn.pt2'"
            ],
            "application/vnd.google.colaboratory.intrinsic+json": {
              "type": "string"
            }
          },
          "metadata": {},
          "execution_count": 13
        }
      ]
    },
    {
      "cell_type": "code",
      "source": [
        "!pip install cmake"
      ],
      "metadata": {
        "id": "TfX5d4jH1qMl",
        "outputId": "2d4da032-2d44-44a3-b321-d83262fc2c60",
        "colab": {
          "base_uri": "https://localhost:8080/"
        }
      },
      "execution_count": 14,
      "outputs": [
        {
          "output_type": "stream",
          "name": "stdout",
          "text": [
            "Requirement already satisfied: cmake in /usr/local/lib/python3.11/dist-packages (3.31.6)\n"
          ]
        }
      ]
    },
    {
      "cell_type": "code",
      "source": [
        "!chmod +x ./build.sh"
      ],
      "metadata": {
        "id": "viy_pWo021NY"
      },
      "execution_count": 24,
      "outputs": []
    },
    {
      "cell_type": "code",
      "source": [
        "!./build.sh"
      ],
      "metadata": {
        "id": "W-8Z-w542_to",
        "outputId": "65ece5cb-4cef-4e03-8171-2ae1b7edabbd",
        "colab": {
          "base_uri": "https://localhost:8080/"
        }
      },
      "execution_count": 27,
      "outputs": [
        {
          "output_type": "stream",
          "name": "stdout",
          "text": [
            "./build.sh: line 3: $'\\r': command not found\n",
            "./build.sh: line 4: $'\\r': command not found\n",
            "\u001b[33mCMake Warning:\n",
            "  Ignoring extra path from command line:\n",
            "\n",
            "   \".\r\"\n",
            "\n",
            "\u001b[0m\n",
            "\u001b[31mCMake Error at CMakeLists.txt:4 (find_package):\n",
            "  By not providing \"FindTorch.cmake\" in CMAKE_MODULE_PATH this project has\n",
            "  asked CMake to find a package configuration file provided by \"Torch\", but\n",
            "  CMake did not find one.\n",
            "\n",
            "  Could not find a package configuration file provided by \"Torch\" with any of\n",
            "  the following names:\n",
            "\n",
            "    TorchConfig.cmake\n",
            "    torch-config.cmake\n",
            "\n",
            "  Add the installation prefix of \"Torch\" to CMAKE_PREFIX_PATH or set\n",
            "  \"Torch_DIR\" to a directory containing one of the above files.  If \"Torch\"\n",
            "  provides a separate development package or SDK, be sure it has been\n",
            "  installed.\n",
            "\n",
            "\u001b[0m\n",
            "-- Configuring incomplete, errors occurred!\n",
            "gmake: Makefile: No such file or directory\n",
            "gmake: *** No rule to make target 'Makefile'.  Stop.\n",
            "./build.sh: line 9: $'\\r': command not found\n"
          ]
        }
      ]
    },
    {
      "cell_type": "code",
      "source": [],
      "metadata": {
        "id": "iw3MHqnR3C9T"
      },
      "execution_count": null,
      "outputs": []
    }
  ],
  "metadata": {
    "colab": {
      "name": "Welcome To Colab",
      "provenance": [],
      "include_colab_link": true
    },
    "kernelspec": {
      "display_name": "Python 3",
      "name": "python3"
    }
  },
  "nbformat": 4,
  "nbformat_minor": 0
}